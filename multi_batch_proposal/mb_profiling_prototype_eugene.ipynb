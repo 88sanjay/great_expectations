{
 "cells": [
  {
   "cell_type": "markdown",
   "metadata": {},
   "source": [
    "# Multi Batch Profiling Spec Proposal\n",
    "\n",
    "### The goal of multi-batch profiling is to provide a description of a typical batch of data asset that is more reliable than the profiling built from a sample of one batch.\n",
    "\n",
    "### Such description will help users learn the distribution of statistics and author expectations that capture the reasonable range of values while leaving out the outliers.\n",
    "\n",
    "### This proposal describes the method of computing the results of multi-batch profiling and suggests the ways to visualize them in an informative way.\n",
    "\n",
    "### This proposal does NOT address the logic of automatic suggestion of expectations based on the profiling results.\n",
    "\n"
   ]
  },
  {
   "cell_type": "code",
   "execution_count": 1,
   "metadata": {},
   "outputs": [
    {
     "name": "stdout",
     "output_type": "stream",
     "text": [
      "2019-08-19T17:45:46-0700 - INFO - Great Expectations logging enabled at INFO level by JupyterUX module.\n"
     ]
    }
   ],
   "source": [
    "import json\n",
    "import os\n",
    "from collections import defaultdict\n",
    "import great_expectations as ge\n",
    "import great_expectations.jupyter_ux\n",
    "import pandas as pd\n",
    "from great_expectations.profile.basic_dataset_profiler import BasicDatasetProfiler\n",
    "\n",
    "\n",
    "%matplotlib inline\n",
    "\n",
    "import matplotlib\n",
    "import numpy as np\n",
    "import matplotlib.pyplot as plt\n",
    "\n",
    "plt.rcParams['figure.figsize'] = (20, 4)\n",
    "import altair as alt\n",
    "\n",
    "from IPython.core.display import display, HTML\n",
    "\n",
    "\n",
    "def acts_as_a_number(var):\n",
    "    try: 0 + var\n",
    "    except TypeError: return False\n",
    "    else: return True    "
   ]
  },
  {
   "cell_type": "markdown",
   "metadata": {},
   "source": [
    "### Let's say we have 4 batches of the data asset \"bechdel\":\n"
   ]
  },
  {
   "cell_type": "code",
   "execution_count": 2,
   "metadata": {},
   "outputs": [],
   "source": [
    "context = ge.data_context.DataContext()"
   ]
  },
  {
   "cell_type": "code",
   "execution_count": 3,
   "metadata": {},
   "outputs": [
    {
     "data": {
      "text/plain": [
       "[{'path': '/Users/eugenemandel/project_data/data-538/bechdel/movies.csv',\n",
       "  'timestamp': 1566261946.8228538,\n",
       "  'sep': None,\n",
       "  'engine': 'python'},\n",
       " {'path': '/Users/eugenemandel/project_data/data-538/bechdel/movies_201901.csv',\n",
       "  'timestamp': 1566261946.822853,\n",
       "  'sep': None,\n",
       "  'engine': 'python'},\n",
       " {'path': '/Users/eugenemandel/project_data/data-538/bechdel/movies_201902.csv',\n",
       "  'timestamp': 1566261946.8228512,\n",
       "  'sep': None,\n",
       "  'engine': 'python'},\n",
       " {'path': '/Users/eugenemandel/project_data/data-538/bechdel/movies_201903.csv',\n",
       "  'timestamp': 1566261946.822845,\n",
       "  'sep': None,\n",
       "  'engine': 'python'}]"
      ]
     },
     "execution_count": 3,
     "metadata": {},
     "output_type": "execute_result"
    }
   ],
   "source": [
    "my_ds = context.get_datasource(\"data-538__dir\")\n",
    "G = my_ds.get_generator()\n",
    "G.reset_iterator('bechdel')\n",
    "all_batch_kwargs = [x for x in G._data_asset_iterators['bechdel']]\n",
    "all_batch_kwargs = sorted(all_batch_kwargs, key=lambda x: x['path'])\n",
    "all_batch_kwargs"
   ]
  },
  {
   "cell_type": "code",
   "execution_count": null,
   "metadata": {},
   "outputs": [],
   "source": []
  },
  {
   "cell_type": "markdown",
   "metadata": {},
   "source": [
    "### Requirement: batches must be sortable in time. This most likely requires introducing the concept of **batch id**\n",
    "\n",
    "For our example we will define a method that will derive batch id from the batch kwargs:"
   ]
  },
  {
   "cell_type": "code",
   "execution_count": 4,
   "metadata": {},
   "outputs": [],
   "source": [
    "def get_batch_id(batch_kwargs):\n",
    "    return os.path.basename(batch_kwargs['path'])"
   ]
  },
  {
   "cell_type": "markdown",
   "metadata": {},
   "source": [
    "### Let's profile these batches one by one using our BasicProfiler:\n",
    "\n",
    "##### (in reality we will read the validation results of individual batches from the validation store)"
   ]
  },
  {
   "cell_type": "code",
   "execution_count": 5,
   "metadata": {},
   "outputs": [],
   "source": [
    "batch_profiling_results = []\n",
    "batch_indices = []\n",
    "\n",
    "profiler = BasicDatasetProfiler"
   ]
  },
  {
   "cell_type": "code",
   "execution_count": 6,
   "metadata": {},
   "outputs": [
    {
     "name": "stdout",
     "output_type": "stream",
     "text": [
      "2019-08-19T17:45:48-0700 - INFO -             Preparing column 0 of 15: year\n",
      "2019-08-19T17:45:48-0700 - INFO -             Preparing column 1 of 15: imdb\n",
      "2019-08-19T17:45:48-0700 - INFO -             Preparing column 2 of 15: title\n",
      "2019-08-19T17:45:48-0700 - INFO -             Preparing column 3 of 15: test\n",
      "2019-08-19T17:45:48-0700 - INFO -             Preparing column 4 of 15: clean_test\n",
      "2019-08-19T17:45:48-0700 - INFO -             Preparing column 5 of 15: binary\n",
      "2019-08-19T17:45:48-0700 - INFO -             Preparing column 6 of 15: budget\n",
      "2019-08-19T17:45:48-0700 - INFO -             Preparing column 7 of 15: domgross\n",
      "2019-08-19T17:45:48-0700 - INFO -             Preparing column 8 of 15: intgross\n",
      "2019-08-19T17:45:48-0700 - INFO -             Preparing column 9 of 15: code\n",
      "2019-08-19T17:45:48-0700 - INFO -             Preparing column 10 of 15: budget_2013$\n",
      "2019-08-19T17:45:48-0700 - INFO -             Preparing column 11 of 15: domgross_2013$\n",
      "2019-08-19T17:45:48-0700 - INFO -             Preparing column 12 of 15: intgross_2013$\n",
      "2019-08-19T17:45:48-0700 - INFO -             Preparing column 13 of 15: period code\n",
      "2019-08-19T17:45:48-0700 - INFO -             Preparing column 14 of 15: decade code\n",
      "2019-08-19T17:45:48-0700 - INFO - \t135 expectation(s) included in expectation_suite.\n",
      "2019-08-19T17:45:48-0700 - INFO -             Preparing column 0 of 15: year\n",
      "2019-08-19T17:45:48-0700 - INFO -             Preparing column 1 of 15: imdb\n",
      "2019-08-19T17:45:48-0700 - INFO -             Preparing column 2 of 15: title\n",
      "2019-08-19T17:45:49-0700 - INFO -             Preparing column 3 of 15: test\n",
      "2019-08-19T17:45:49-0700 - INFO -             Preparing column 4 of 15: clean_test\n",
      "2019-08-19T17:45:49-0700 - INFO -             Preparing column 5 of 15: binary\n",
      "2019-08-19T17:45:49-0700 - INFO -             Preparing column 6 of 15: budget\n",
      "2019-08-19T17:45:49-0700 - INFO -             Preparing column 7 of 15: domgross\n",
      "2019-08-19T17:45:49-0700 - INFO -             Preparing column 8 of 15: intgross\n",
      "2019-08-19T17:45:49-0700 - INFO -             Preparing column 9 of 15: code\n",
      "2019-08-19T17:45:49-0700 - INFO -             Preparing column 10 of 15: budget_2013$\n",
      "2019-08-19T17:45:49-0700 - INFO -             Preparing column 11 of 15: domgross_2013$\n",
      "2019-08-19T17:45:49-0700 - INFO -             Preparing column 12 of 15: intgross_2013$\n",
      "2019-08-19T17:45:49-0700 - INFO -             Preparing column 13 of 15: period code\n",
      "2019-08-19T17:45:49-0700 - INFO -             Preparing column 14 of 15: decade code\n",
      "2019-08-19T17:45:49-0700 - INFO - \t135 expectation(s) included in expectation_suite.\n",
      "2019-08-19T17:45:49-0700 - INFO -             Preparing column 0 of 15: year\n",
      "2019-08-19T17:45:49-0700 - INFO -             Preparing column 1 of 15: imdb\n",
      "2019-08-19T17:45:49-0700 - INFO -             Preparing column 2 of 15: title\n",
      "2019-08-19T17:45:49-0700 - INFO -             Preparing column 3 of 15: test\n",
      "2019-08-19T17:45:49-0700 - INFO -             Preparing column 4 of 15: clean_test\n",
      "2019-08-19T17:45:49-0700 - INFO -             Preparing column 5 of 15: binary\n",
      "2019-08-19T17:45:49-0700 - INFO -             Preparing column 6 of 15: budget\n",
      "2019-08-19T17:45:49-0700 - INFO -             Preparing column 7 of 15: domgross\n",
      "2019-08-19T17:45:49-0700 - INFO -             Preparing column 8 of 15: intgross\n",
      "2019-08-19T17:45:49-0700 - INFO -             Preparing column 9 of 15: code\n",
      "2019-08-19T17:45:49-0700 - INFO -             Preparing column 10 of 15: budget_2013$\n",
      "2019-08-19T17:45:49-0700 - INFO -             Preparing column 11 of 15: domgross_2013$\n",
      "2019-08-19T17:45:49-0700 - INFO -             Preparing column 12 of 15: intgross_2013$\n",
      "2019-08-19T17:45:49-0700 - INFO -             Preparing column 13 of 15: period code\n",
      "2019-08-19T17:45:49-0700 - INFO -             Preparing column 14 of 15: decade code\n",
      "2019-08-19T17:45:49-0700 - INFO - \t135 expectation(s) included in expectation_suite.\n",
      "2019-08-19T17:45:50-0700 - INFO -             Preparing column 0 of 15: year\n",
      "2019-08-19T17:45:50-0700 - INFO -             Preparing column 1 of 15: imdb\n",
      "2019-08-19T17:45:50-0700 - INFO -             Preparing column 2 of 15: title\n",
      "2019-08-19T17:45:50-0700 - INFO -             Preparing column 3 of 15: test\n",
      "2019-08-19T17:45:50-0700 - INFO -             Preparing column 4 of 15: clean_test\n",
      "2019-08-19T17:45:50-0700 - INFO -             Preparing column 5 of 15: binary\n",
      "2019-08-19T17:45:50-0700 - INFO -             Preparing column 6 of 15: budget\n",
      "2019-08-19T17:45:50-0700 - INFO -             Preparing column 7 of 15: domgross\n",
      "2019-08-19T17:45:50-0700 - INFO -             Preparing column 8 of 15: intgross\n",
      "2019-08-19T17:45:50-0700 - INFO -             Preparing column 9 of 15: code\n",
      "2019-08-19T17:45:50-0700 - INFO -             Preparing column 10 of 15: budget_2013$\n",
      "2019-08-19T17:45:50-0700 - INFO -             Preparing column 11 of 15: domgross_2013$\n",
      "2019-08-19T17:45:50-0700 - INFO -             Preparing column 12 of 15: intgross_2013$\n",
      "2019-08-19T17:45:50-0700 - INFO -             Preparing column 13 of 15: period code\n",
      "2019-08-19T17:45:50-0700 - INFO -             Preparing column 14 of 15: decade code\n",
      "2019-08-19T17:45:50-0700 - INFO - \t135 expectation(s) included in expectation_suite.\n"
     ]
    }
   ],
   "source": [
    "\n",
    "for batch_kwargs_set in all_batch_kwargs:\n",
    "    batch = context.get_batch('bechdel', expectation_suite_name='basic_must_pass_expectations', batch_kwargs=batch_kwargs_set)\n",
    "    expectation_suite, validation_result = profiler.profile(batch, run_id=\"profiling_\" + get_batch_id(batch._batch_kwargs))\n",
    "    batch_profiling_results.append(validation_result)\n",
    "    batch_indices.append(get_batch_id(batch._batch_kwargs))"
   ]
  },
  {
   "cell_type": "code",
   "execution_count": 7,
   "metadata": {},
   "outputs": [
    {
     "data": {
      "text/plain": [
       "['movies.csv', 'movies_201901.csv', 'movies_201902.csv', 'movies_201903.csv']"
      ]
     },
     "execution_count": 7,
     "metadata": {},
     "output_type": "execute_result"
    }
   ],
   "source": [
    "batch_indices\n",
    "# batch_profiling_results"
   ]
  },
  {
   "cell_type": "markdown",
   "metadata": {},
   "source": [
    "### Multi-Batch profiling can be implemented as following:\n",
    "### 1. Take list of validation results that were produced by profiling individual batches and \n",
    "### 2. Build a dataframe of metrics from the validation results where every column holds one metric and every row corresponds to one batch.\n",
    "### 3. Visualize the distribution of the metrics' values over batches\n",
    "\n",
    "\n",
    "### This proposal describes possible visualizations for individual metrics, but does not describe the overall UI - please suggest and I will document in the next version.\n",
    "\n",
    "### What are these metrics? Metrics depend on expectation types. Below we will group expectation types by the metrics they produce.\n"
   ]
  },
  {
   "cell_type": "markdown",
   "metadata": {},
   "source": [
    "### This is the list of all expectation types BasicProfiler uses:"
   ]
  },
  {
   "cell_type": "code",
   "execution_count": 8,
   "metadata": {},
   "outputs": [
    {
     "data": {
      "text/plain": [
       "{'expect_column_distinct_values_to_be_in_set',\n",
       " 'expect_column_kl_divergence_to_be_less_than',\n",
       " 'expect_column_max_to_be_between',\n",
       " 'expect_column_mean_to_be_between',\n",
       " 'expect_column_median_to_be_between',\n",
       " 'expect_column_min_to_be_between',\n",
       " 'expect_column_proportion_of_unique_values_to_be_between',\n",
       " 'expect_column_quantile_values_to_be_between',\n",
       " 'expect_column_stdev_to_be_between',\n",
       " 'expect_column_unique_value_count_to_be_between',\n",
       " 'expect_column_values_to_be_between',\n",
       " 'expect_column_values_to_be_in_set',\n",
       " 'expect_column_values_to_be_in_type_list',\n",
       " 'expect_column_values_to_be_unique',\n",
       " 'expect_column_values_to_not_be_null',\n",
       " 'expect_column_values_to_not_match_regex',\n",
       " 'expect_table_columns_to_match_ordered_list',\n",
       " 'expect_table_row_count_to_be_between'}"
      ]
     },
     "execution_count": 8,
     "metadata": {},
     "output_type": "execute_result"
    }
   ],
   "source": [
    "all_exp_types_in_profiler = set([result['expectation_config']['expectation_type'] for result in batch_profiling_results[0]['results']])\n",
    "all_exp_types_in_profiler"
   ]
  },
  {
   "cell_type": "markdown",
   "metadata": {},
   "source": [
    "### 1. Aggregate expectations with single numeric observed value in the result\n",
    "\n",
    "For these expectations we will show:\n",
    "* a histogram that shows the distribution of the observed value - user will be able to see the typical values vs outliers.\n",
    "* a line graph with X=batch ids and Y=observed value - the user will be able to see the change of the observed values over time\n",
    "\n",
    "<img src=\"observed_val.jpg\" alt=\"observed_val\" style=\"width: 800px;\"/>\n",
    "\n",
    "### This is the list of expectation types in this group:\n"
   ]
  },
  {
   "cell_type": "code",
   "execution_count": 17,
   "metadata": {},
   "outputs": [
    {
     "data": {
      "text/plain": [
       "{'expect_column_max_to_be_between',\n",
       " 'expect_column_mean_to_be_between',\n",
       " 'expect_column_median_to_be_between',\n",
       " 'expect_column_min_to_be_between',\n",
       " 'expect_column_proportion_of_unique_values_to_be_between',\n",
       " 'expect_column_stdev_to_be_between',\n",
       " 'expect_column_unique_value_count_to_be_between',\n",
       " 'expect_table_row_count_to_be_between'}"
      ]
     },
     "execution_count": 17,
     "metadata": {},
     "output_type": "execute_result"
    }
   ],
   "source": [
    "def result_contains_numeric_observed_value(result):\n",
    "    return ('observed_value' in result['result']\\\n",
    "            and acts_as_a_number(result['result'].get('observed_value')))\\\n",
    "            and set(result['result'].keys()) <= set(['observed_value', 'element_count', 'missing_count', 'missing_percent'])\n",
    "\n",
    "tmp1 = [result for result in batch_profiling_results[0]['results'] if result_contains_numeric_observed_value(result)\n",
    "]\n",
    "\n",
    "exp_types_with_numeric_observed_val = set([result['expectation_config']['expectation_type'] for result in tmp1])\n",
    "exp_types_with_numeric_observed_val"
   ]
  },
  {
   "cell_type": "markdown",
   "metadata": {},
   "source": [
    "### 2. Column map expectations - `unexpected_percent` in the result\n",
    "\n",
    "For these expectations we will show:\n",
    "* a histogram that shows the distribution of the unexpected percent - user will be able to see the typical values vs outliers.\n",
    "* a line graph with X=batch ids and Y=observed value - the user will be able to see the change of the unexpected percent over time\n",
    "\n",
    "<img src=\"observed_val.jpg\" alt=\"observed_val\" style=\"width: 800px;\"/>\n",
    "\n",
    "### This is the list of expectation types in this group:\n"
   ]
  },
  {
   "cell_type": "code",
   "execution_count": 18,
   "metadata": {},
   "outputs": [
    {
     "data": {
      "text/plain": [
       "{'expect_column_values_to_be_between',\n",
       " 'expect_column_values_to_be_in_type_list',\n",
       " 'expect_column_values_to_be_unique',\n",
       " 'expect_column_values_to_not_be_null',\n",
       " 'expect_column_values_to_not_match_regex'}"
      ]
     },
     "execution_count": 18,
     "metadata": {},
     "output_type": "execute_result"
    }
   ],
   "source": [
    "def result_contains_unexpected_pct(result):\n",
    "    return 'unexpected_percent' in result['result']\\\n",
    "        and result['expectation_config']['expectation_type'] != 'expect_column_values_to_be_in_set'\n",
    "\n",
    "\n",
    "tmp1 = [result for result in batch_profiling_results[0]['results'] if result_contains_unexpected_pct(result)]\n",
    "\n",
    "exp_types_with_unexp_pct = set([result['expectation_config']['expectation_type'] for result in tmp1])\n",
    "exp_types_with_unexp_pct"
   ]
  },
  {
   "cell_type": "markdown",
   "metadata": {},
   "source": [
    "### 3. Every expectation type in the remaining group requires special processing:"
   ]
  },
  {
   "cell_type": "code",
   "execution_count": 19,
   "metadata": {},
   "outputs": [
    {
     "data": {
      "text/plain": [
       "{'expect_column_distinct_values_to_be_in_set',\n",
       " 'expect_column_kl_divergence_to_be_less_than',\n",
       " 'expect_column_quantile_values_to_be_between',\n",
       " 'expect_column_values_to_be_in_set',\n",
       " 'expect_table_columns_to_match_ordered_list'}"
      ]
     },
     "execution_count": 19,
     "metadata": {},
     "output_type": "execute_result"
    }
   ],
   "source": [
    "all_exp_types_in_profiler-exp_types_with_unexp_pct-exp_types_with_numeric_observed_val"
   ]
  },
  {
   "cell_type": "markdown",
   "metadata": {},
   "source": [
    "### expect_column_distinct_values_to_be_in_set\n",
    "\n",
    "* {\"cat\", \"dog\", \"bird\", \"fish\"} is a union of value sets of all the batches.\n",
    "* QUESTION: This presentation covers the case of a column not being present in all batches, but not the case of columns changing order. Proposals?\n",
    "\n",
    "\n",
    "<img src=\"expect_column_distinct_values_to_be_in_set.jpg\" alt=\"expect_column_distinct_values_to_be_in_set\" style=\"width: 400px;\"/>\n"
   ]
  },
  {
   "cell_type": "markdown",
   "metadata": {},
   "source": [
    "### expect_column_kl_divergence_to_be_less_than\n",
    "\n",
    "Since the bins might be different in different batches, we should stack the individual batches' histograms on a shared X axis:\n",
    "\n",
    "<img src=\"expect_column_kl_divergence_to_be_less_than.jpg\" alt=\"expect_column_distinct_values_to_be_in_set\" style=\"width: 400px;\"/>\n",
    "\n",
    "Question: is there a reasonable way to stack the histograms horizontally?\n"
   ]
  },
  {
   "cell_type": "markdown",
   "metadata": {},
   "source": [
    "### expect_column_quantile_values_to_be_between\n",
    "\n",
    "For each of the five quantiles that BasicProfiler computes we will display a visualization similar to the one we used for observed values and unexpected percentage:\n",
    "* a line graph showing the value of the quantile over batch ids\n",
    "* a histogram showing the distribution of the quantile value (NOT SHOWN IN THE DRAWING)\n",
    "\n",
    "<img src=\"expect_column_quantile_values_to_be_between.jpg\" alt=\"expect_column_quantile_values_to_be_between\" style=\"width: 400px;\"/>\n"
   ]
  },
  {
   "cell_type": "code",
   "execution_count": null,
   "metadata": {},
   "outputs": [],
   "source": []
  },
  {
   "cell_type": "markdown",
   "metadata": {},
   "source": [
    "### expect_table_columns_to_match_ordered_list\n",
    "\n",
    "Each row in the visualization corresponds to one column of the original dataset. Each column corresponds to a batch.\n",
    "* \"v\": the column is present in the batch\n",
    "* \"x\": the column is missing from the batch\n",
    "* {\"claim_id\", \"user_id\", \"status\", \"visit_date\"} is a union of column names of all the batches.\n",
    "\n",
    "\n",
    "<img src=\"expect_table_columns_to_match_ordered_list.jpg\" alt=\"expect_table_columns_to_match_ordered_list\" style=\"width: 400px;\"/>\n",
    "\n",
    "This covers the case of a column missing in some batches, but not a change in the order\n"
   ]
  },
  {
   "cell_type": "markdown",
   "metadata": {},
   "source": [
    "### expect_column_values_to_be_in_set\n",
    "\n",
    "Question: not sure how to visualize it in a clear way over batches - suggestions?\n",
    "\n",
    "### Here is an example of `partial_unexpected_counts` in the result:"
   ]
  },
  {
   "cell_type": "code",
   "execution_count": 15,
   "metadata": {},
   "outputs": [
    {
     "data": {
      "text/plain": [
       "[{'value': 2010, 'count': 129},\n",
       " {'value': 2009, 'count': 124},\n",
       " {'value': 2011, 'count': 124},\n",
       " {'value': 2008, 'count': 101},\n",
       " {'value': 2005, 'count': 100},\n",
       " {'value': 2013, 'count': 99},\n",
       " {'value': 2006, 'count': 90},\n",
       " {'value': 2012, 'count': 86},\n",
       " {'value': 2004, 'count': 81},\n",
       " {'value': 2002, 'count': 80},\n",
       " {'value': 2007, 'count': 73},\n",
       " {'value': 2001, 'count': 64},\n",
       " {'value': 2003, 'count': 64},\n",
       " {'value': 2000, 'count': 63},\n",
       " {'value': 1998, 'count': 62},\n",
       " {'value': 1999, 'count': 56},\n",
       " {'value': 1997, 'count': 51},\n",
       " {'value': 1996, 'count': 42},\n",
       " {'value': 1995, 'count': 36},\n",
       " {'value': 1994, 'count': 26}]"
      ]
     },
     "execution_count": 15,
     "metadata": {},
     "output_type": "execute_result"
    }
   ],
   "source": [
    "[result['result']['partial_unexpected_counts'] for result in batch_profiling_results[0]['results'] if result['expectation_config']['expectation_type'] == 'expect_column_values_to_be_in_set'][0]\n"
   ]
  },
  {
   "cell_type": "code",
   "execution_count": 14,
   "metadata": {},
   "outputs": [
    {
     "data": {
      "text/plain": [
       "[{'value': 2010, 'count': 129},\n",
       " {'value': 2009, 'count': 124},\n",
       " {'value': 2011, 'count': 124},\n",
       " {'value': 2008, 'count': 101},\n",
       " {'value': 2005, 'count': 100},\n",
       " {'value': 2013, 'count': 99},\n",
       " {'value': 2006, 'count': 90},\n",
       " {'value': 2012, 'count': 86},\n",
       " {'value': 2004, 'count': 81},\n",
       " {'value': 2002, 'count': 80},\n",
       " {'value': 2007, 'count': 73},\n",
       " {'value': 2001, 'count': 64},\n",
       " {'value': 2003, 'count': 64},\n",
       " {'value': 2000, 'count': 63},\n",
       " {'value': 1998, 'count': 62},\n",
       " {'value': 1999, 'count': 56},\n",
       " {'value': 1997, 'count': 51},\n",
       " {'value': 1996, 'count': 42},\n",
       " {'value': 1995, 'count': 36},\n",
       " {'value': 1994, 'count': 26}]"
      ]
     },
     "execution_count": 14,
     "metadata": {},
     "output_type": "execute_result"
    }
   ],
   "source": [
    "#[result for result in batch_profiling_results[0]['results'] if result['expectation_config']['expectation_type'] == 'expect_column_quantile_values_to_be_between']\n",
    "#[result for result in batch_profiling_results[0]['results'] if result['expectation_config']['expectation_type'] == 'expect_column_kl_divergence_to_be_less_than']\n",
    "[result for result in batch_profiling_results[0]['results'] if result['expectation_config']['expectation_type'] == 'expect_column_values_to_be_in_set']\n",
    "[result for result in batch_profiling_results[0]['results'] if result['expectation_config']['expectation_type'] == 'expect_column_distinct_values_to_be_in_set']\n",
    "[result['result']['partial_unexpected_counts'] for result in batch_profiling_results[0]['results'] if result['expectation_config']['expectation_type'] == 'expect_column_values_to_be_in_set'][0]\n",
    "\n",
    "\n",
    "# tmp1 = [result for result in batch_profiling_results[0]['results'] if\\\n",
    "# (not  (result['result'].get('observed_value') and acts_as_a_number(result['result'].get('observed_value'))\\\n",
    "#  or 'unexpected_percent' in result['result'])) and result['expectation_config']['expectation_type']\n",
    "# ]\n",
    "\n",
    "# # [result for result in batch_profiling_results[0]['results'] if\\\n",
    "# #  result['result'].get('unexpected_percent')\n",
    "# # ]\n",
    "\n",
    "\n",
    "# set([result['expectation_config']['expectation_type'] for result in tmp1])\n",
    "\n",
    "# # tmp1\n",
    "\n",
    "# [result for result in batch_profiling_results[0]['results'] if result['expectation_config']['expectation_type'] == 'expect_column_mean_to_be_between']\n",
    "\n",
    "\n"
   ]
  },
  {
   "cell_type": "code",
   "execution_count": null,
   "metadata": {},
   "outputs": [],
   "source": []
  },
  {
   "cell_type": "code",
   "execution_count": null,
   "metadata": {},
   "outputs": [],
   "source": []
  },
  {
   "cell_type": "markdown",
   "metadata": {},
   "source": [
    "### Code snippet for extracting metrics from results \n",
    "### (covers only observed values and unexpected percentages)"
   ]
  },
  {
   "cell_type": "code",
   "execution_count": 16,
   "metadata": {},
   "outputs": [],
   "source": [
    "def get_metric_name_and_value(result):\n",
    "#     print(json.dumps(result, indent=2))\n",
    "    new_metric_name = None\n",
    "    new_metric_value = None\n",
    "    if result.get('result'):\n",
    "        if result_contains_numeric_observed_value(result):\n",
    "            if result['expectation_config']['kwargs'].get('column'):\n",
    "                new_metric_name = result['expectation_config']['kwargs']['column'] + \"__\" + result['expectation_config']['expectation_type'] + \"__obsval\"\n",
    "            else:\n",
    "                new_metric_name = result['expectation_config']['expectation_type'] + \"__obsval\"\n",
    "\n",
    "            new_metric_value = result.get('result').get('observed_value')\n",
    "        elif result_contains_unexpected_pct(result):\n",
    "            if result['expectation_config']['kwargs'].get('column'):\n",
    "                new_metric_name = result['expectation_config']['kwargs']['column'] + \"__\" + result['expectation_config']['expectation_type'] + \"__unexp\"\n",
    "            else:\n",
    "                new_metric_name = result['expectation_config']['expectation_type'] + \"__unexp\"\n",
    "\n",
    "            new_metric_value = result.get('result').get('unexpected_percent')\n",
    "\n",
    "    return (new_metric_name, new_metric_value)\n"
   ]
  },
  {
   "cell_type": "markdown",
   "metadata": {},
   "source": [
    "### Can a validation result of an expectation have more than one metric?\n",
    "\n",
    "### No reason to store anything by the validation results of batches. It is fast to recompute the metrics dataframe from them in memory."
   ]
  },
  {
   "cell_type": "code",
   "execution_count": 65,
   "metadata": {},
   "outputs": [
    {
     "data": {
      "text/html": [
       "<div>\n",
       "<style scoped>\n",
       "    .dataframe tbody tr th:only-of-type {\n",
       "        vertical-align: middle;\n",
       "    }\n",
       "\n",
       "    .dataframe tbody tr th {\n",
       "        vertical-align: top;\n",
       "    }\n",
       "\n",
       "    .dataframe thead th {\n",
       "        text-align: right;\n",
       "    }\n",
       "</style>\n",
       "<table border=\"1\" class=\"dataframe\">\n",
       "  <thead>\n",
       "    <tr style=\"text-align: right;\">\n",
       "      <th></th>\n",
       "      <th>batch_index</th>\n",
       "      <th>expect_table_row_count_to_be_between__obsval</th>\n",
       "      <th>year__expect_column_unique_value_count_to_be_between__obsval</th>\n",
       "      <th>year__expect_column_proportion_of_unique_values_to_be_between__obsval</th>\n",
       "      <th>year__expect_column_values_to_be_in_set__unexp</th>\n",
       "      <th>year__expect_column_min_to_be_between__obsval</th>\n",
       "      <th>year__expect_column_max_to_be_between__obsval</th>\n",
       "      <th>year__expect_column_mean_to_be_between__obsval</th>\n",
       "      <th>year__expect_column_median_to_be_between__obsval</th>\n",
       "      <th>year__expect_column_stdev_to_be_between__obsval</th>\n",
       "      <th>...</th>\n",
       "      <th>intgross_2013$__expect_column_mean_to_be_between__obsval</th>\n",
       "      <th>intgross_2013$__expect_column_median_to_be_between__obsval</th>\n",
       "      <th>period code__expect_column_unique_value_count_to_be_between__obsval</th>\n",
       "      <th>period code__expect_column_proportion_of_unique_values_to_be_between__obsval</th>\n",
       "      <th>period code__expect_column_values_to_not_be_null__unexp</th>\n",
       "      <th>period code__expect_column_values_to_be_in_set__unexp</th>\n",
       "      <th>decade code__expect_column_unique_value_count_to_be_between__obsval</th>\n",
       "      <th>decade code__expect_column_proportion_of_unique_values_to_be_between__obsval</th>\n",
       "      <th>decade code__expect_column_values_to_not_be_null__unexp</th>\n",
       "      <th>decade code__expect_column_values_to_be_in_set__unexp</th>\n",
       "    </tr>\n",
       "  </thead>\n",
       "  <tbody>\n",
       "    <tr>\n",
       "      <th>0</th>\n",
       "      <td>movies.csv</td>\n",
       "      <td>1794</td>\n",
       "      <td>44</td>\n",
       "      <td>0.024526</td>\n",
       "      <td>1.0</td>\n",
       "      <td>1970</td>\n",
       "      <td>2013</td>\n",
       "      <td>2002.552397</td>\n",
       "      <td>2005.0</td>\n",
       "      <td>8.979731</td>\n",
       "      <td>...</td>\n",
       "      <td>1.978380e+08</td>\n",
       "      <td>96239640.0</td>\n",
       "      <td>5</td>\n",
       "      <td>0.003096</td>\n",
       "      <td>0.099777</td>\n",
       "      <td>0.900223</td>\n",
       "      <td>3</td>\n",
       "      <td>0.001858</td>\n",
       "      <td>0.099777</td>\n",
       "      <td>0.900223</td>\n",
       "    </tr>\n",
       "    <tr>\n",
       "      <th>1</th>\n",
       "      <td>movies_201901.csv</td>\n",
       "      <td>1794</td>\n",
       "      <td>44</td>\n",
       "      <td>0.024526</td>\n",
       "      <td>1.0</td>\n",
       "      <td>1970</td>\n",
       "      <td>2013</td>\n",
       "      <td>2002.552397</td>\n",
       "      <td>2005.0</td>\n",
       "      <td>8.979731</td>\n",
       "      <td>...</td>\n",
       "      <td>1.978380e+08</td>\n",
       "      <td>96239640.0</td>\n",
       "      <td>5</td>\n",
       "      <td>0.003096</td>\n",
       "      <td>0.099777</td>\n",
       "      <td>0.900223</td>\n",
       "      <td>3</td>\n",
       "      <td>0.001858</td>\n",
       "      <td>0.099777</td>\n",
       "      <td>0.900223</td>\n",
       "    </tr>\n",
       "    <tr>\n",
       "      <th>2</th>\n",
       "      <td>movies_201902.csv</td>\n",
       "      <td>1794</td>\n",
       "      <td>44</td>\n",
       "      <td>0.024526</td>\n",
       "      <td>1.0</td>\n",
       "      <td>1970</td>\n",
       "      <td>2013</td>\n",
       "      <td>2002.552397</td>\n",
       "      <td>2005.0</td>\n",
       "      <td>8.979731</td>\n",
       "      <td>...</td>\n",
       "      <td>1.978380e+08</td>\n",
       "      <td>96239640.0</td>\n",
       "      <td>5</td>\n",
       "      <td>0.003096</td>\n",
       "      <td>0.099777</td>\n",
       "      <td>0.900223</td>\n",
       "      <td>3</td>\n",
       "      <td>0.001858</td>\n",
       "      <td>0.099777</td>\n",
       "      <td>0.900223</td>\n",
       "    </tr>\n",
       "    <tr>\n",
       "      <th>3</th>\n",
       "      <td>movies_201903.csv</td>\n",
       "      <td>1794</td>\n",
       "      <td>44</td>\n",
       "      <td>0.024526</td>\n",
       "      <td>1.0</td>\n",
       "      <td>1970</td>\n",
       "      <td>2013</td>\n",
       "      <td>2002.552397</td>\n",
       "      <td>2005.0</td>\n",
       "      <td>8.979731</td>\n",
       "      <td>...</td>\n",
       "      <td>1.978380e+08</td>\n",
       "      <td>96239640.0</td>\n",
       "      <td>5</td>\n",
       "      <td>0.003096</td>\n",
       "      <td>0.099777</td>\n",
       "      <td>0.900223</td>\n",
       "      <td>3</td>\n",
       "      <td>0.001858</td>\n",
       "      <td>0.099777</td>\n",
       "      <td>0.900223</td>\n",
       "    </tr>\n",
       "  </tbody>\n",
       "</table>\n",
       "<p>4 rows × 83 columns</p>\n",
       "</div>"
      ],
      "text/plain": [
       "         batch_index  expect_table_row_count_to_be_between__obsval  \\\n",
       "0         movies.csv                                          1794   \n",
       "1  movies_201901.csv                                          1794   \n",
       "2  movies_201902.csv                                          1794   \n",
       "3  movies_201903.csv                                          1794   \n",
       "\n",
       "   year__expect_column_unique_value_count_to_be_between__obsval  \\\n",
       "0                                                 44              \n",
       "1                                                 44              \n",
       "2                                                 44              \n",
       "3                                                 44              \n",
       "\n",
       "   year__expect_column_proportion_of_unique_values_to_be_between__obsval  \\\n",
       "0                                           0.024526                       \n",
       "1                                           0.024526                       \n",
       "2                                           0.024526                       \n",
       "3                                           0.024526                       \n",
       "\n",
       "   year__expect_column_values_to_be_in_set__unexp  \\\n",
       "0                                             1.0   \n",
       "1                                             1.0   \n",
       "2                                             1.0   \n",
       "3                                             1.0   \n",
       "\n",
       "   year__expect_column_min_to_be_between__obsval  \\\n",
       "0                                           1970   \n",
       "1                                           1970   \n",
       "2                                           1970   \n",
       "3                                           1970   \n",
       "\n",
       "   year__expect_column_max_to_be_between__obsval  \\\n",
       "0                                           2013   \n",
       "1                                           2013   \n",
       "2                                           2013   \n",
       "3                                           2013   \n",
       "\n",
       "   year__expect_column_mean_to_be_between__obsval  \\\n",
       "0                                     2002.552397   \n",
       "1                                     2002.552397   \n",
       "2                                     2002.552397   \n",
       "3                                     2002.552397   \n",
       "\n",
       "   year__expect_column_median_to_be_between__obsval  \\\n",
       "0                                            2005.0   \n",
       "1                                            2005.0   \n",
       "2                                            2005.0   \n",
       "3                                            2005.0   \n",
       "\n",
       "   year__expect_column_stdev_to_be_between__obsval  ...  \\\n",
       "0                                         8.979731  ...   \n",
       "1                                         8.979731  ...   \n",
       "2                                         8.979731  ...   \n",
       "3                                         8.979731  ...   \n",
       "\n",
       "   intgross_2013$__expect_column_mean_to_be_between__obsval  \\\n",
       "0                                       1.978380e+08          \n",
       "1                                       1.978380e+08          \n",
       "2                                       1.978380e+08          \n",
       "3                                       1.978380e+08          \n",
       "\n",
       "   intgross_2013$__expect_column_median_to_be_between__obsval  \\\n",
       "0                                         96239640.0            \n",
       "1                                         96239640.0            \n",
       "2                                         96239640.0            \n",
       "3                                         96239640.0            \n",
       "\n",
       "   period code__expect_column_unique_value_count_to_be_between__obsval  \\\n",
       "0                                                  5                     \n",
       "1                                                  5                     \n",
       "2                                                  5                     \n",
       "3                                                  5                     \n",
       "\n",
       "   period code__expect_column_proportion_of_unique_values_to_be_between__obsval  \\\n",
       "0                                           0.003096                              \n",
       "1                                           0.003096                              \n",
       "2                                           0.003096                              \n",
       "3                                           0.003096                              \n",
       "\n",
       "   period code__expect_column_values_to_not_be_null__unexp  \\\n",
       "0                                           0.099777         \n",
       "1                                           0.099777         \n",
       "2                                           0.099777         \n",
       "3                                           0.099777         \n",
       "\n",
       "   period code__expect_column_values_to_be_in_set__unexp  \\\n",
       "0                                           0.900223       \n",
       "1                                           0.900223       \n",
       "2                                           0.900223       \n",
       "3                                           0.900223       \n",
       "\n",
       "   decade code__expect_column_unique_value_count_to_be_between__obsval  \\\n",
       "0                                                  3                     \n",
       "1                                                  3                     \n",
       "2                                                  3                     \n",
       "3                                                  3                     \n",
       "\n",
       "   decade code__expect_column_proportion_of_unique_values_to_be_between__obsval  \\\n",
       "0                                           0.001858                              \n",
       "1                                           0.001858                              \n",
       "2                                           0.001858                              \n",
       "3                                           0.001858                              \n",
       "\n",
       "   decade code__expect_column_values_to_not_be_null__unexp  \\\n",
       "0                                           0.099777         \n",
       "1                                           0.099777         \n",
       "2                                           0.099777         \n",
       "3                                           0.099777         \n",
       "\n",
       "   decade code__expect_column_values_to_be_in_set__unexp  \n",
       "0                                           0.900223      \n",
       "1                                           0.900223      \n",
       "2                                           0.900223      \n",
       "3                                           0.900223      \n",
       "\n",
       "[4 rows x 83 columns]"
      ]
     },
     "execution_count": 65,
     "metadata": {},
     "output_type": "execute_result"
    }
   ],
   "source": [
    "\n",
    "\n",
    "metrics = defaultdict(list)\n",
    "\n",
    "metrics[\"batch_index\"] = batch_indices\n",
    "\n",
    "for j, evrs in enumerate(batch_profiling_results):\n",
    "    for i, result in enumerate(evrs['results']):\n",
    "#         print(j, i)\n",
    "        new_metric_name, new_metric_value = get_metric_name_and_value(result)\n",
    "        if new_metric_name and new_metric_value:\n",
    "            metrics[new_metric_name].append(new_metric_value)\n",
    "\n",
    "            \n",
    "metrics_df = pd.DataFrame(metrics)  \n",
    "metrics_df"
   ]
  },
  {
   "cell_type": "code",
   "execution_count": 66,
   "metadata": {},
   "outputs": [],
   "source": [
    "\n",
    "# display(HTML('<h1>Hello, world!</h1>'))"
   ]
  },
  {
   "cell_type": "code",
   "execution_count": 69,
   "metadata": {},
   "outputs": [
    {
     "data": {
      "application/vnd.vegalite.v3+json": {
       "$schema": "https://vega.github.io/schema/vega-lite/v3.3.0.json",
       "config": {
        "mark": {
         "tooltip": null
        },
        "view": {
         "height": 300,
         "width": 400
        }
       },
       "data": {
        "name": "data-e36f6e7ad1605cc7fc7208cb295caee7"
       },
       "datasets": {
        "data-e36f6e7ad1605cc7fc7208cb295caee7": [
         {
          "batch_index": "movies.csv",
          "binary__expect_column_proportion_of_unique_values_to_be_between__obsval": 0.0011148272017837235,
          "binary__expect_column_unique_value_count_to_be_between__obsval": 2,
          "binary__expect_column_values_to_be_in_set__unexp": 1,
          "budget_2013$__expect_column_max_to_be_between__obsval": 461435929,
          "budget_2013$__expect_column_mean_to_be_between__obsval": 55464608.45150502,
          "budget_2013$__expect_column_median_to_be_between__obsval": 36995786,
          "budget_2013$__expect_column_min_to_be_between__obsval": 8632,
          "budget_2013$__expect_column_proportion_of_unique_values_to_be_between__obsval": 0.6622073578595318,
          "budget_2013$__expect_column_stdev_to_be_between__obsval": 54918635.59804199,
          "budget_2013$__expect_column_unique_value_count_to_be_between__obsval": 1188,
          "budget_2013$__expect_column_values_to_be_in_set__unexp": 1,
          "budget__expect_column_max_to_be_between__obsval": 425000000,
          "budget__expect_column_mean_to_be_between__obsval": 44826462.614269786,
          "budget__expect_column_median_to_be_between__obsval": 28000000,
          "budget__expect_column_min_to_be_between__obsval": 7000,
          "budget__expect_column_proportion_of_unique_values_to_be_between__obsval": 0.1516164994425864,
          "budget__expect_column_stdev_to_be_between__obsval": 48186026.118953586,
          "budget__expect_column_unique_value_count_to_be_between__obsval": 272,
          "budget__expect_column_values_to_be_in_set__unexp": 1,
          "clean_test__expect_column_proportion_of_unique_values_to_be_between__obsval": 0.002787068004459309,
          "clean_test__expect_column_unique_value_count_to_be_between__obsval": 5,
          "clean_test__expect_column_values_to_be_in_set__unexp": 1,
          "code__expect_column_proportion_of_unique_values_to_be_between__obsval": 0.04738015607580825,
          "code__expect_column_unique_value_count_to_be_between__obsval": 85,
          "code__expect_column_values_to_be_in_set__unexp": 1,
          "decade code__expect_column_proportion_of_unique_values_to_be_between__obsval": 0.0018575851393188853,
          "decade code__expect_column_unique_value_count_to_be_between__obsval": 3,
          "decade code__expect_column_values_to_be_in_set__unexp": 0.9002229654403567,
          "decade code__expect_column_values_to_not_be_null__unexp": 0.09977703455964325,
          "domgross_2013$__expect_column_max_to_be_between__obsval": 1771682790,
          "domgross_2013$__expect_column_mean_to_be_between__obsval": 95174783.57601352,
          "domgross_2013$__expect_column_median_to_be_between__obsval": 55993640.5,
          "domgross_2013$__expect_column_min_to_be_between__obsval": 899,
          "domgross_2013$__expect_column_proportion_of_unique_values_to_be_between__obsval": 0.9994369369369369,
          "domgross_2013$__expect_column_unique_value_count_to_be_between__obsval": 1775,
          "domgross_2013$__expect_column_values_to_be_in_set__unexp": 0.9899665551839465,
          "domgross_2013$__expect_column_values_to_not_be_null__unexp": 0.010033444816053512,
          "domgross__expect_column_max_to_be_between__obsval": 760507625,
          "domgross__expect_column_mean_to_be_between__obsval": 69132048.27912211,
          "domgross__expect_column_median_to_be_between__obsval": 42194060,
          "domgross__expect_column_proportion_of_unique_values_to_be_between__obsval": 0.9848058525604952,
          "domgross__expect_column_unique_value_count_to_be_between__obsval": 1750,
          "domgross__expect_column_values_to_be_in_set__unexp": 0.9905239687848384,
          "domgross__expect_column_values_to_not_be_null__unexp": 0.00947603121516165,
          "expect_table_row_count_to_be_between__obsval": 1794,
          "imdb__expect_column_proportion_of_unique_values_to_be_between__obsval": 1,
          "imdb__expect_column_unique_value_count_to_be_between__obsval": 1794,
          "imdb__expect_column_values_to_be_in_set__unexp": 1,
          "intgross_2013$__expect_column_max_to_be_between__obsval": 3171930973,
          "intgross_2013$__expect_column_mean_to_be_between__obsval": 197837984.96859226,
          "intgross_2013$__expect_column_median_to_be_between__obsval": 96239640,
          "intgross_2013$__expect_column_min_to_be_between__obsval": 899,
          "intgross_2013$__expect_column_proportion_of_unique_values_to_be_between__obsval": 0.9994391475042064,
          "intgross_2013$__expect_column_unique_value_count_to_be_between__obsval": 1782,
          "intgross_2013$__expect_column_values_to_be_in_set__unexp": 0.9938684503901896,
          "intgross_2013$__expect_column_values_to_not_be_null__unexp": 0.006131549609810479,
          "intgross__expect_column_max_to_be_between__obsval": 2783918982,
          "intgross__expect_column_mean_to_be_between__obsval": 150385700.05103758,
          "intgross__expect_column_median_to_be_between__obsval": 76482461,
          "intgross__expect_column_min_to_be_between__obsval": 828,
          "intgross__expect_column_proportion_of_unique_values_to_be_between__obsval": 0.9848569826135727,
          "intgross__expect_column_unique_value_count_to_be_between__obsval": 1756,
          "intgross__expect_column_values_to_be_in_set__unexp": 0.9938684503901896,
          "intgross__expect_column_values_to_not_be_null__unexp": 0.006131549609810479,
          "period code__expect_column_proportion_of_unique_values_to_be_between__obsval": 0.0030959752321981426,
          "period code__expect_column_unique_value_count_to_be_between__obsval": 5,
          "period code__expect_column_values_to_be_in_set__unexp": 0.9002229654403567,
          "period code__expect_column_values_to_not_be_null__unexp": 0.09977703455964325,
          "test__expect_column_proportion_of_unique_values_to_be_between__obsval": 0.005574136008918618,
          "test__expect_column_unique_value_count_to_be_between__obsval": 10,
          "test__expect_column_values_to_be_in_set__unexp": 1,
          "title__expect_column_proportion_of_unique_values_to_be_between__obsval": 0.9855072463768116,
          "title__expect_column_unique_value_count_to_be_between__obsval": 1768,
          "title__expect_column_values_to_be_in_set__unexp": 1,
          "year__expect_column_max_to_be_between__obsval": 2013,
          "year__expect_column_mean_to_be_between__obsval": 2002.552396878484,
          "year__expect_column_median_to_be_between__obsval": 2005,
          "year__expect_column_min_to_be_between__obsval": 1970,
          "year__expect_column_proportion_of_unique_values_to_be_between__obsval": 0.024526198439241916,
          "year__expect_column_stdev_to_be_between__obsval": 8.979730993074794,
          "year__expect_column_unique_value_count_to_be_between__obsval": 44,
          "year__expect_column_values_to_be_in_set__unexp": 1
         },
         {
          "batch_index": "movies_201901.csv",
          "binary__expect_column_proportion_of_unique_values_to_be_between__obsval": 0.0011148272017837235,
          "binary__expect_column_unique_value_count_to_be_between__obsval": 2,
          "binary__expect_column_values_to_be_in_set__unexp": 1,
          "budget_2013$__expect_column_max_to_be_between__obsval": 461435929,
          "budget_2013$__expect_column_mean_to_be_between__obsval": 55464608.45150502,
          "budget_2013$__expect_column_median_to_be_between__obsval": 36995786,
          "budget_2013$__expect_column_min_to_be_between__obsval": 8632,
          "budget_2013$__expect_column_proportion_of_unique_values_to_be_between__obsval": 0.6622073578595318,
          "budget_2013$__expect_column_stdev_to_be_between__obsval": 54918635.59804199,
          "budget_2013$__expect_column_unique_value_count_to_be_between__obsval": 1188,
          "budget_2013$__expect_column_values_to_be_in_set__unexp": 1,
          "budget__expect_column_max_to_be_between__obsval": 425000000,
          "budget__expect_column_mean_to_be_between__obsval": 44826462.614269786,
          "budget__expect_column_median_to_be_between__obsval": 28000000,
          "budget__expect_column_min_to_be_between__obsval": 7000,
          "budget__expect_column_proportion_of_unique_values_to_be_between__obsval": 0.1516164994425864,
          "budget__expect_column_stdev_to_be_between__obsval": 48186026.118953586,
          "budget__expect_column_unique_value_count_to_be_between__obsval": 272,
          "budget__expect_column_values_to_be_in_set__unexp": 1,
          "clean_test__expect_column_proportion_of_unique_values_to_be_between__obsval": 0.002787068004459309,
          "clean_test__expect_column_unique_value_count_to_be_between__obsval": 5,
          "clean_test__expect_column_values_to_be_in_set__unexp": 1,
          "code__expect_column_proportion_of_unique_values_to_be_between__obsval": 0.04738015607580825,
          "code__expect_column_unique_value_count_to_be_between__obsval": 85,
          "code__expect_column_values_to_be_in_set__unexp": 1,
          "decade code__expect_column_proportion_of_unique_values_to_be_between__obsval": 0.0018575851393188853,
          "decade code__expect_column_unique_value_count_to_be_between__obsval": 3,
          "decade code__expect_column_values_to_be_in_set__unexp": 0.9002229654403567,
          "decade code__expect_column_values_to_not_be_null__unexp": 0.09977703455964325,
          "domgross_2013$__expect_column_max_to_be_between__obsval": 1771682790,
          "domgross_2013$__expect_column_mean_to_be_between__obsval": 95174783.57601352,
          "domgross_2013$__expect_column_median_to_be_between__obsval": 55993640.5,
          "domgross_2013$__expect_column_min_to_be_between__obsval": 899,
          "domgross_2013$__expect_column_proportion_of_unique_values_to_be_between__obsval": 0.9994369369369369,
          "domgross_2013$__expect_column_unique_value_count_to_be_between__obsval": 1775,
          "domgross_2013$__expect_column_values_to_be_in_set__unexp": 0.9899665551839465,
          "domgross_2013$__expect_column_values_to_not_be_null__unexp": 0.010033444816053512,
          "domgross__expect_column_max_to_be_between__obsval": 760507625,
          "domgross__expect_column_mean_to_be_between__obsval": 69132048.27912211,
          "domgross__expect_column_median_to_be_between__obsval": 42194060,
          "domgross__expect_column_proportion_of_unique_values_to_be_between__obsval": 0.9848058525604952,
          "domgross__expect_column_unique_value_count_to_be_between__obsval": 1750,
          "domgross__expect_column_values_to_be_in_set__unexp": 0.9905239687848384,
          "domgross__expect_column_values_to_not_be_null__unexp": 0.00947603121516165,
          "expect_table_row_count_to_be_between__obsval": 1794,
          "imdb__expect_column_proportion_of_unique_values_to_be_between__obsval": 1,
          "imdb__expect_column_unique_value_count_to_be_between__obsval": 1794,
          "imdb__expect_column_values_to_be_in_set__unexp": 1,
          "intgross_2013$__expect_column_max_to_be_between__obsval": 3171930973,
          "intgross_2013$__expect_column_mean_to_be_between__obsval": 197837984.96859226,
          "intgross_2013$__expect_column_median_to_be_between__obsval": 96239640,
          "intgross_2013$__expect_column_min_to_be_between__obsval": 899,
          "intgross_2013$__expect_column_proportion_of_unique_values_to_be_between__obsval": 0.9994391475042064,
          "intgross_2013$__expect_column_unique_value_count_to_be_between__obsval": 1782,
          "intgross_2013$__expect_column_values_to_be_in_set__unexp": 0.9938684503901896,
          "intgross_2013$__expect_column_values_to_not_be_null__unexp": 0.006131549609810479,
          "intgross__expect_column_max_to_be_between__obsval": 2783918982,
          "intgross__expect_column_mean_to_be_between__obsval": 150385700.05103758,
          "intgross__expect_column_median_to_be_between__obsval": 76482461,
          "intgross__expect_column_min_to_be_between__obsval": 828,
          "intgross__expect_column_proportion_of_unique_values_to_be_between__obsval": 0.9848569826135727,
          "intgross__expect_column_unique_value_count_to_be_between__obsval": 1756,
          "intgross__expect_column_values_to_be_in_set__unexp": 0.9938684503901896,
          "intgross__expect_column_values_to_not_be_null__unexp": 0.006131549609810479,
          "period code__expect_column_proportion_of_unique_values_to_be_between__obsval": 0.0030959752321981426,
          "period code__expect_column_unique_value_count_to_be_between__obsval": 5,
          "period code__expect_column_values_to_be_in_set__unexp": 0.9002229654403567,
          "period code__expect_column_values_to_not_be_null__unexp": 0.09977703455964325,
          "test__expect_column_proportion_of_unique_values_to_be_between__obsval": 0.005574136008918618,
          "test__expect_column_unique_value_count_to_be_between__obsval": 10,
          "test__expect_column_values_to_be_in_set__unexp": 1,
          "title__expect_column_proportion_of_unique_values_to_be_between__obsval": 0.9855072463768116,
          "title__expect_column_unique_value_count_to_be_between__obsval": 1768,
          "title__expect_column_values_to_be_in_set__unexp": 1,
          "year__expect_column_max_to_be_between__obsval": 2013,
          "year__expect_column_mean_to_be_between__obsval": 2002.552396878484,
          "year__expect_column_median_to_be_between__obsval": 2005,
          "year__expect_column_min_to_be_between__obsval": 1970,
          "year__expect_column_proportion_of_unique_values_to_be_between__obsval": 0.024526198439241916,
          "year__expect_column_stdev_to_be_between__obsval": 8.979730993074794,
          "year__expect_column_unique_value_count_to_be_between__obsval": 44,
          "year__expect_column_values_to_be_in_set__unexp": 1
         },
         {
          "batch_index": "movies_201902.csv",
          "binary__expect_column_proportion_of_unique_values_to_be_between__obsval": 0.0011148272017837235,
          "binary__expect_column_unique_value_count_to_be_between__obsval": 2,
          "binary__expect_column_values_to_be_in_set__unexp": 1,
          "budget_2013$__expect_column_max_to_be_between__obsval": 461435929,
          "budget_2013$__expect_column_mean_to_be_between__obsval": 55464608.45150502,
          "budget_2013$__expect_column_median_to_be_between__obsval": 36995786,
          "budget_2013$__expect_column_min_to_be_between__obsval": 8632,
          "budget_2013$__expect_column_proportion_of_unique_values_to_be_between__obsval": 0.6622073578595318,
          "budget_2013$__expect_column_stdev_to_be_between__obsval": 54918635.59804199,
          "budget_2013$__expect_column_unique_value_count_to_be_between__obsval": 1188,
          "budget_2013$__expect_column_values_to_be_in_set__unexp": 1,
          "budget__expect_column_max_to_be_between__obsval": 425000000,
          "budget__expect_column_mean_to_be_between__obsval": 44826462.614269786,
          "budget__expect_column_median_to_be_between__obsval": 28000000,
          "budget__expect_column_min_to_be_between__obsval": 7000,
          "budget__expect_column_proportion_of_unique_values_to_be_between__obsval": 0.1516164994425864,
          "budget__expect_column_stdev_to_be_between__obsval": 48186026.118953586,
          "budget__expect_column_unique_value_count_to_be_between__obsval": 272,
          "budget__expect_column_values_to_be_in_set__unexp": 1,
          "clean_test__expect_column_proportion_of_unique_values_to_be_between__obsval": 0.002787068004459309,
          "clean_test__expect_column_unique_value_count_to_be_between__obsval": 5,
          "clean_test__expect_column_values_to_be_in_set__unexp": 1,
          "code__expect_column_proportion_of_unique_values_to_be_between__obsval": 0.04738015607580825,
          "code__expect_column_unique_value_count_to_be_between__obsval": 85,
          "code__expect_column_values_to_be_in_set__unexp": 1,
          "decade code__expect_column_proportion_of_unique_values_to_be_between__obsval": 0.0018575851393188853,
          "decade code__expect_column_unique_value_count_to_be_between__obsval": 3,
          "decade code__expect_column_values_to_be_in_set__unexp": 0.9002229654403567,
          "decade code__expect_column_values_to_not_be_null__unexp": 0.09977703455964325,
          "domgross_2013$__expect_column_max_to_be_between__obsval": 1771682790,
          "domgross_2013$__expect_column_mean_to_be_between__obsval": 95174783.57601352,
          "domgross_2013$__expect_column_median_to_be_between__obsval": 55993640.5,
          "domgross_2013$__expect_column_min_to_be_between__obsval": 899,
          "domgross_2013$__expect_column_proportion_of_unique_values_to_be_between__obsval": 0.9994369369369369,
          "domgross_2013$__expect_column_unique_value_count_to_be_between__obsval": 1775,
          "domgross_2013$__expect_column_values_to_be_in_set__unexp": 0.9899665551839465,
          "domgross_2013$__expect_column_values_to_not_be_null__unexp": 0.010033444816053512,
          "domgross__expect_column_max_to_be_between__obsval": 760507625,
          "domgross__expect_column_mean_to_be_between__obsval": 69132048.27912211,
          "domgross__expect_column_median_to_be_between__obsval": 42194060,
          "domgross__expect_column_proportion_of_unique_values_to_be_between__obsval": 0.9848058525604952,
          "domgross__expect_column_unique_value_count_to_be_between__obsval": 1750,
          "domgross__expect_column_values_to_be_in_set__unexp": 0.9905239687848384,
          "domgross__expect_column_values_to_not_be_null__unexp": 0.00947603121516165,
          "expect_table_row_count_to_be_between__obsval": 1794,
          "imdb__expect_column_proportion_of_unique_values_to_be_between__obsval": 1,
          "imdb__expect_column_unique_value_count_to_be_between__obsval": 1794,
          "imdb__expect_column_values_to_be_in_set__unexp": 1,
          "intgross_2013$__expect_column_max_to_be_between__obsval": 3171930973,
          "intgross_2013$__expect_column_mean_to_be_between__obsval": 197837984.96859226,
          "intgross_2013$__expect_column_median_to_be_between__obsval": 96239640,
          "intgross_2013$__expect_column_min_to_be_between__obsval": 899,
          "intgross_2013$__expect_column_proportion_of_unique_values_to_be_between__obsval": 0.9994391475042064,
          "intgross_2013$__expect_column_unique_value_count_to_be_between__obsval": 1782,
          "intgross_2013$__expect_column_values_to_be_in_set__unexp": 0.9938684503901896,
          "intgross_2013$__expect_column_values_to_not_be_null__unexp": 0.006131549609810479,
          "intgross__expect_column_max_to_be_between__obsval": 2783918982,
          "intgross__expect_column_mean_to_be_between__obsval": 150385700.05103758,
          "intgross__expect_column_median_to_be_between__obsval": 76482461,
          "intgross__expect_column_min_to_be_between__obsval": 828,
          "intgross__expect_column_proportion_of_unique_values_to_be_between__obsval": 0.9848569826135727,
          "intgross__expect_column_unique_value_count_to_be_between__obsval": 1756,
          "intgross__expect_column_values_to_be_in_set__unexp": 0.9938684503901896,
          "intgross__expect_column_values_to_not_be_null__unexp": 0.006131549609810479,
          "period code__expect_column_proportion_of_unique_values_to_be_between__obsval": 0.0030959752321981426,
          "period code__expect_column_unique_value_count_to_be_between__obsval": 5,
          "period code__expect_column_values_to_be_in_set__unexp": 0.9002229654403567,
          "period code__expect_column_values_to_not_be_null__unexp": 0.09977703455964325,
          "test__expect_column_proportion_of_unique_values_to_be_between__obsval": 0.005574136008918618,
          "test__expect_column_unique_value_count_to_be_between__obsval": 10,
          "test__expect_column_values_to_be_in_set__unexp": 1,
          "title__expect_column_proportion_of_unique_values_to_be_between__obsval": 0.9855072463768116,
          "title__expect_column_unique_value_count_to_be_between__obsval": 1768,
          "title__expect_column_values_to_be_in_set__unexp": 1,
          "year__expect_column_max_to_be_between__obsval": 2013,
          "year__expect_column_mean_to_be_between__obsval": 2002.552396878484,
          "year__expect_column_median_to_be_between__obsval": 2005,
          "year__expect_column_min_to_be_between__obsval": 1970,
          "year__expect_column_proportion_of_unique_values_to_be_between__obsval": 0.024526198439241916,
          "year__expect_column_stdev_to_be_between__obsval": 8.979730993074794,
          "year__expect_column_unique_value_count_to_be_between__obsval": 44,
          "year__expect_column_values_to_be_in_set__unexp": 1
         },
         {
          "batch_index": "movies_201903.csv",
          "binary__expect_column_proportion_of_unique_values_to_be_between__obsval": 0.0011148272017837235,
          "binary__expect_column_unique_value_count_to_be_between__obsval": 2,
          "binary__expect_column_values_to_be_in_set__unexp": 1,
          "budget_2013$__expect_column_max_to_be_between__obsval": 461435929,
          "budget_2013$__expect_column_mean_to_be_between__obsval": 55464608.45150502,
          "budget_2013$__expect_column_median_to_be_between__obsval": 36995786,
          "budget_2013$__expect_column_min_to_be_between__obsval": 8632,
          "budget_2013$__expect_column_proportion_of_unique_values_to_be_between__obsval": 0.6622073578595318,
          "budget_2013$__expect_column_stdev_to_be_between__obsval": 54918635.59804199,
          "budget_2013$__expect_column_unique_value_count_to_be_between__obsval": 1188,
          "budget_2013$__expect_column_values_to_be_in_set__unexp": 1,
          "budget__expect_column_max_to_be_between__obsval": 425000000,
          "budget__expect_column_mean_to_be_between__obsval": 44826462.614269786,
          "budget__expect_column_median_to_be_between__obsval": 28000000,
          "budget__expect_column_min_to_be_between__obsval": 7000,
          "budget__expect_column_proportion_of_unique_values_to_be_between__obsval": 0.1516164994425864,
          "budget__expect_column_stdev_to_be_between__obsval": 48186026.118953586,
          "budget__expect_column_unique_value_count_to_be_between__obsval": 272,
          "budget__expect_column_values_to_be_in_set__unexp": 1,
          "clean_test__expect_column_proportion_of_unique_values_to_be_between__obsval": 0.002787068004459309,
          "clean_test__expect_column_unique_value_count_to_be_between__obsval": 5,
          "clean_test__expect_column_values_to_be_in_set__unexp": 1,
          "code__expect_column_proportion_of_unique_values_to_be_between__obsval": 0.04738015607580825,
          "code__expect_column_unique_value_count_to_be_between__obsval": 85,
          "code__expect_column_values_to_be_in_set__unexp": 1,
          "decade code__expect_column_proportion_of_unique_values_to_be_between__obsval": 0.0018575851393188853,
          "decade code__expect_column_unique_value_count_to_be_between__obsval": 3,
          "decade code__expect_column_values_to_be_in_set__unexp": 0.9002229654403567,
          "decade code__expect_column_values_to_not_be_null__unexp": 0.09977703455964325,
          "domgross_2013$__expect_column_max_to_be_between__obsval": 1771682790,
          "domgross_2013$__expect_column_mean_to_be_between__obsval": 95174783.57601352,
          "domgross_2013$__expect_column_median_to_be_between__obsval": 55993640.5,
          "domgross_2013$__expect_column_min_to_be_between__obsval": 899,
          "domgross_2013$__expect_column_proportion_of_unique_values_to_be_between__obsval": 0.9994369369369369,
          "domgross_2013$__expect_column_unique_value_count_to_be_between__obsval": 1775,
          "domgross_2013$__expect_column_values_to_be_in_set__unexp": 0.9899665551839465,
          "domgross_2013$__expect_column_values_to_not_be_null__unexp": 0.010033444816053512,
          "domgross__expect_column_max_to_be_between__obsval": 760507625,
          "domgross__expect_column_mean_to_be_between__obsval": 69132048.27912211,
          "domgross__expect_column_median_to_be_between__obsval": 42194060,
          "domgross__expect_column_proportion_of_unique_values_to_be_between__obsval": 0.9848058525604952,
          "domgross__expect_column_unique_value_count_to_be_between__obsval": 1750,
          "domgross__expect_column_values_to_be_in_set__unexp": 0.9905239687848384,
          "domgross__expect_column_values_to_not_be_null__unexp": 0.00947603121516165,
          "expect_table_row_count_to_be_between__obsval": 1794,
          "imdb__expect_column_proportion_of_unique_values_to_be_between__obsval": 1,
          "imdb__expect_column_unique_value_count_to_be_between__obsval": 1794,
          "imdb__expect_column_values_to_be_in_set__unexp": 1,
          "intgross_2013$__expect_column_max_to_be_between__obsval": 3171930973,
          "intgross_2013$__expect_column_mean_to_be_between__obsval": 197837984.96859226,
          "intgross_2013$__expect_column_median_to_be_between__obsval": 96239640,
          "intgross_2013$__expect_column_min_to_be_between__obsval": 899,
          "intgross_2013$__expect_column_proportion_of_unique_values_to_be_between__obsval": 0.9994391475042064,
          "intgross_2013$__expect_column_unique_value_count_to_be_between__obsval": 1782,
          "intgross_2013$__expect_column_values_to_be_in_set__unexp": 0.9938684503901896,
          "intgross_2013$__expect_column_values_to_not_be_null__unexp": 0.006131549609810479,
          "intgross__expect_column_max_to_be_between__obsval": 2783918982,
          "intgross__expect_column_mean_to_be_between__obsval": 150385700.05103758,
          "intgross__expect_column_median_to_be_between__obsval": 76482461,
          "intgross__expect_column_min_to_be_between__obsval": 828,
          "intgross__expect_column_proportion_of_unique_values_to_be_between__obsval": 0.9848569826135727,
          "intgross__expect_column_unique_value_count_to_be_between__obsval": 1756,
          "intgross__expect_column_values_to_be_in_set__unexp": 0.9938684503901896,
          "intgross__expect_column_values_to_not_be_null__unexp": 0.006131549609810479,
          "period code__expect_column_proportion_of_unique_values_to_be_between__obsval": 0.0030959752321981426,
          "period code__expect_column_unique_value_count_to_be_between__obsval": 5,
          "period code__expect_column_values_to_be_in_set__unexp": 0.9002229654403567,
          "period code__expect_column_values_to_not_be_null__unexp": 0.09977703455964325,
          "test__expect_column_proportion_of_unique_values_to_be_between__obsval": 0.005574136008918618,
          "test__expect_column_unique_value_count_to_be_between__obsval": 10,
          "test__expect_column_values_to_be_in_set__unexp": 1,
          "title__expect_column_proportion_of_unique_values_to_be_between__obsval": 0.9855072463768116,
          "title__expect_column_unique_value_count_to_be_between__obsval": 1768,
          "title__expect_column_values_to_be_in_set__unexp": 1,
          "year__expect_column_max_to_be_between__obsval": 2013,
          "year__expect_column_mean_to_be_between__obsval": 2002.552396878484,
          "year__expect_column_median_to_be_between__obsval": 2005,
          "year__expect_column_min_to_be_between__obsval": 1970,
          "year__expect_column_proportion_of_unique_values_to_be_between__obsval": 0.024526198439241916,
          "year__expect_column_stdev_to_be_between__obsval": 8.979730993074794,
          "year__expect_column_unique_value_count_to_be_between__obsval": 44,
          "year__expect_column_values_to_be_in_set__unexp": 1
         }
        ]
       },
       "hconcat": [
        {
         "encoding": {
          "x": {
           "bin": {
            "maxbins": 30
           },
           "field": "expect_table_row_count_to_be_between__obsval",
           "type": "quantitative"
          },
          "y": {
           "aggregate": "count",
           "type": "quantitative"
          }
         },
         "height": 100,
         "mark": "bar",
         "width": 150
        },
        {
         "height": 100,
         "layer": [
          {
           "encoding": {
            "x": {
             "bin": true,
             "field": "expect_table_row_count_to_be_between__obsval",
             "type": "quantitative"
            },
            "y": {
             "aggregate": "count",
             "type": "quantitative"
            }
           },
           "mark": "bar"
          },
          {
           "encoding": {
            "x": {
             "field": "batch_index",
             "type": "nominal"
            },
            "y": {
             "field": "expect_table_row_count_to_be_between__obsval",
             "type": "quantitative"
            }
           },
           "mark": "line"
          }
         ],
         "width": 500
        }
       ]
      },
      "image/png": "[encoded data removed]",
      "text/plain": [
       "<VegaLite 3 object>\n",
       "\n",
       "If you see this message, it means the renderer has not been properly enabled\n",
       "for the frontend that you are using. For more information, see\n",
       "https://altair-viz.github.io/user_guide/troubleshooting.html\n"
      ]
     },
     "execution_count": 69,
     "metadata": {},
     "output_type": "execute_result"
    }
   ],
   "source": [
    "def create_plots(metrics_df, col):\n",
    "    bars = alt.Chart(metrics_df).mark_bar().encode(\n",
    "        alt.X(col, bin=True),\n",
    "        y='count()',\n",
    "    )\n",
    "    \n",
    "    lines = alt.Chart(metrics_df).mark_line().encode(\n",
    "        x='batch_index',\n",
    "        y=col,\n",
    "    )\n",
    "\n",
    "    # text = lines.mark_text(align='left', dx=5, dy=-5).encode(\n",
    "    #     text=alt.condition(nearest, 'y:Q', alt.value(' '))\n",
    "    # )\n",
    "\n",
    "    layer = alt.layer(\n",
    "        bars, lines\n",
    "    ).properties(\n",
    "        width=500,\n",
    "        height=100\n",
    "    )\n",
    "\n",
    "\n",
    "    chart2 = alt.Chart(metrics_df).mark_bar().encode(\n",
    "        y='count()',\n",
    "        x=alt.Y(col+':Q', bin=alt.Bin(maxbins=30)),\n",
    "    #     color='species:N'\n",
    "    ).properties(\n",
    "        height=100,\n",
    "        width=150\n",
    "    )\n",
    "\n",
    "    return( chart2 | layer )\n",
    "#     return layer\n",
    "#     display(chart2 | layer)\n",
    "create_plots(metrics_df, \"expect_table_row_count_to_be_between__obsval\")"
   ]
  },
  {
   "cell_type": "code",
   "execution_count": null,
   "metadata": {},
   "outputs": [],
   "source": []
  },
  {
   "cell_type": "code",
   "execution_count": null,
   "metadata": {},
   "outputs": [],
   "source": []
  }
 ],
 "metadata": {
  "kernelspec": {
   "display_name": "Python 3",
   "language": "python",
   "name": "python3"
  },
  "language_info": {
   "codemirror_mode": {
    "name": "ipython",
    "version": 3
   },
   "file_extension": ".py",
   "mimetype": "text/x-python",
   "name": "python",
   "nbconvert_exporter": "python",
   "pygments_lexer": "ipython3",
   "version": "3.7.0"
  }
 },
 "nbformat": 4,
 "nbformat_minor": 4
}
