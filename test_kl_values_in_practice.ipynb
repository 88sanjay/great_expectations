{
 "cells": [
  {
   "cell_type": "code",
   "execution_count": 0,
   "metadata": {},
   "outputs": [],
   "source": [
    "import random\n",
    "import json\n",
    "import traceback\n",
    "\n",
    "import numpy as np\n",
    "import pandas as pd\n",
    "import great_expectations as ge"
   ]
  },
  {
   "cell_type": "code",
   "execution_count": 0,
   "metadata": {},
   "outputs": [],
   "source": [
    "%matplotlib inline\n",
    "\n",
    "import matplotlib\n",
    "import numpy as np\n",
    "import matplotlib.pyplot as plt"
   ]
  },
  {
   "cell_type": "code",
   "execution_count": 0,
   "metadata": {},
   "outputs": [],
   "source": [
    "import glob\n",
    "G = glob.glob('/Users/abe/Documents/superconductive/tools/maglev/autoinspection/data/vincent_is_awesome/*.csv')\n",
    "\n",
    "for g in G:\n",
    "    df = ge.read_csv(g)\n",
    "    for col in df.columns:\n",
    "        result = df.expect_column_proportion_of_unique_values_to_be_between(col, 0)\n",
    "        if result[\"true_value\"] < .05:\n",
    "            print g, col"
   ]
  },
  {
   "cell_type": "code",
   "execution_count": 0,
   "metadata": {},
   "outputs": [],
   "source": [
    "len(G)"
   ]
  },
  {
   "cell_type": "code",
   "execution_count": 0,
   "metadata": {},
   "outputs": [],
   "source": [
    "# df = ge.read_csv('/Users/abe/Documents/superconductive/tools/maglev/autoinspection/data/vincent_is_awesome/car_Florida.csv')\n",
    "# df = ge.read_csv('/Users/abe/Documents/superconductive/tools/maglev/autoinspection/data/vincent_is_awesome/boot_amis.csv')\n",
    "# g = '/Users/abe/Documents/superconductive/tools/maglev/autoinspection/data/vincent_is_awesome/boot_nuclear.csv'\n",
    "# g = '/Users/abe/Documents/superconductive/tools/maglev/autoinspection/data/vincent_is_awesome/boot_acme.csv'\n",
    "# g = '/Users/abe/Documents/superconductive/tools/maglev/autoinspection/data/vincent_is_awesome/COUNT_rwm5yr.csv'\n",
    "g = '/Users/abe/Documents/superconductive/tools/maglev/autoinspection/data/vincent_is_awesome/COUNT_rwm5yr.csv'\n",
    "# g = random.choice(G)\n",
    "df = ge.read_csv(g)\n",
    "print g\n",
    "print df.shape"
   ]
  },
  {
   "cell_type": "code",
   "execution_count": 0,
   "metadata": {},
   "outputs": [],
   "source": [
    "df.head()"
   ]
  },
  {
   "cell_type": "code",
   "execution_count": 0,
   "metadata": {},
   "outputs": [],
   "source": [
    "var1 = 'hospvis'\n",
    "var2 = 'hhninc'\n",
    "\n",
    "# print pd.crosstab(df[var1], df[var2])\n",
    "# x = df[var1].value_counts()\n",
    "# print x/x.sum()\n",
    "# x = df[var2].value_counts()\n",
    "# print x/x.sum()\n",
    "\n",
    "df[var1].hist(bins=20, alpha=.7)\n",
    "df[var2].hist(bins=20, alpha=.7)\n",
    "# plt.scatter(df[var1], df[var2])"
   ]
  },
  {
   "cell_type": "code",
   "execution_count": 0,
   "metadata": {},
   "outputs": [],
   "source": []
  },
  {
   "cell_type": "code",
   "execution_count": 0,
   "metadata": {
    "scrolled": true
   },
   "outputs": [],
   "source": [
    "rows = []\n",
    "for k,g in enumerate(G):\n",
    "    print k,g\n",
    "    try:\n",
    "        df = ge.read_csv(g)\n",
    "    except:\n",
    "        continue\n",
    "    \n",
    "    if df.shape[0]<40 or df.shape[1]>40:\n",
    "        continue\n",
    "\n",
    "    for i, i_col in list(enumerate(df.columns))[1:]:\n",
    "        if df[i_col].value_counts().shape < 30:\n",
    "            continue\n",
    "\n",
    "        for j, j_col in list(enumerate(df.columns))[i:]:\n",
    "    #         print i_col, j_col\n",
    "            if df[j_col].value_counts().shape < 30:\n",
    "                continue\n",
    "                \n",
    "            try:\n",
    "                df[\"random\"] = df[i_col].map(lambda x: random.random())\n",
    "                df_training = df[df.random > .5]\n",
    "                df_testing = ge.dataset.PandasDataSet(df[df.random <= .5])\n",
    "\n",
    "                partition = ge.dataset.util.continuous_partition_data(df_training[i_col], bins='ntile')\n",
    "                new_partition = ge.dataset.util.continuous_partition_data(df_training[j_col], bins='ntile')\n",
    "\n",
    "                same_result = df_testing.expect_column_kl_divergence_less_than(\n",
    "                    i_col,\n",
    "                    partition,\n",
    "                    20,\n",
    "    #                 tail_weight_holdout=0.0001,\n",
    "#                     tail_weight_holdout=0.01,\n",
    "#                     tail_weight_holdout=0.1,\n",
    "                    tail_weight_holdout=1.0/df_testing.shape[0]\n",
    "                )\n",
    "                diff_result = df_testing.expect_column_kl_divergence_less_than(\n",
    "                    j_col,\n",
    "                    partition,\n",
    "                    20,\n",
    "#                     tail_weight_holdout=0.0001,\n",
    "#                     tail_weight_holdout=0.01,\n",
    "#                     tail_weight_holdout=0.1,\n",
    "                    tail_weight_holdout=1.0/df_testing.shape[0]\n",
    "                )\n",
    "                if i == j:\n",
    "                    diff_value = None\n",
    "                else:\n",
    "                    diff_value = diff_result['true_value']\n",
    "\n",
    "                row = {\n",
    "                    'column_A' : i_col,\n",
    "                    'column_B' : j_col,\n",
    "                    'same_value' : same_result['true_value'],\n",
    "                    'diff_value' : diff_value,\n",
    "                    'source_file' : g,\n",
    "                }\n",
    "        #         same_value = result['true_value']\n",
    "        #         values.append(value)\n",
    "        #         print col, value\n",
    "                rows.append(row)\n",
    "\n",
    "            except Exception, err:\n",
    "                pass\n",
    "#                 print i_col, j_col\n",
    "#                 traceback.print_exc()\n",
    "\n",
    "\n",
    "result_df = pd.DataFrame(rows)\n",
    "# plt.hist(values, bins=20)"
   ]
  },
  {
   "cell_type": "code",
   "execution_count": 0,
   "metadata": {},
   "outputs": [],
   "source": [
    "result_df = pd.DataFrame(rows)\n",
    "result_df.shape"
   ]
  },
  {
   "cell_type": "code",
   "execution_count": 0,
   "metadata": {},
   "outputs": [],
   "source": [
    "result_df.diff_value[result_df.diff_value<np.inf].hist(alpha=.5, color='red', bins=20)\n",
    "result_df.same_value[result_df.same_value<np.inf].hist(alpha=.5, bins=20)"
   ]
  },
  {
   "cell_type": "code",
   "execution_count": 0,
   "metadata": {},
   "outputs": [],
   "source": [
    "np.log(result_df.same_value)[result_df.same_value<np.inf].hist(alpha=.5, bins=20)"
   ]
  },
  {
   "cell_type": "code",
   "execution_count": 0,
   "metadata": {},
   "outputs": [],
   "source": [
    "rows = []\n",
    "for i in range(0,200):\n",
    "    k = i*1./100\n",
    "\n",
    "    row = {\n",
    "        \"pct_false_negative\" : (result_df.same_value>k).mean(),\n",
    "        \"pct_false_positive\" : (result_df.diff_value<k).mean(),\n",
    "        \"k\" : k\n",
    "    }\n",
    "    rows.append(row)\n",
    "\n",
    "false_pos_df = pd.DataFrame(rows)"
   ]
  },
  {
   "cell_type": "code",
   "execution_count": 0,
   "metadata": {},
   "outputs": [],
   "source": [
    "#0.44 .05\n",
    "#0.75 .01\n",
    "false_pos_df[false_pos_df.pct_false_negative<.01]"
   ]
  },
  {
   "cell_type": "code",
   "execution_count": 0,
   "metadata": {},
   "outputs": [],
   "source": [
    "plt.scatter(false_pos_df.pct_false_negative, false_pos_df.pct_false_positive)\n",
    "plt.xlabel(\"% False Positive\")\n",
    "plt.ylabel(\"% False Negative\")"
   ]
  },
  {
   "cell_type": "code",
   "execution_count": 0,
   "metadata": {},
   "outputs": [],
   "source": [
    "import sklearn\n",
    "from sklearn.neighbors import KernelDensity"
   ]
  },
  {
   "cell_type": "code",
   "execution_count": 0,
   "metadata": {},
   "outputs": [],
   "source": [
    "result_df.diff_value[result_df.diff_value<np.inf].plot('kde')\n",
    "result_df.same_value[result_df.same_value<np.inf].plot('kde')"
   ]
  },
  {
   "cell_type": "code",
   "execution_count": 0,
   "metadata": {},
   "outputs": [],
   "source": [
    "diff_kde = KernelDensity()\n",
    "#.hist(alpha=.5, color='red', bins=20)\n",
    "diff_kde.fit(result_df.diff_value[result_df.diff_value<np.inf])\n",
    "\n",
    "same_kde = KernelDensity()\n",
    "#.hist(alpha=.5, bins=20)\n",
    "same_kde.fit(result_df.same_value[result_df.same_value<np.inf])"
   ]
  },
  {
   "cell_type": "code",
   "execution_count": 0,
   "metadata": {},
   "outputs": [],
   "source": [
    "result_df.sort_values('diff_value').head(20)"
   ]
  },
  {
   "cell_type": "code",
   "execution_count": 0,
   "metadata": {},
   "outputs": [],
   "source": [
    "result_df.ix[1979].to_dict()"
   ]
  },
  {
   "cell_type": "code",
   "execution_count": 0,
   "metadata": {},
   "outputs": [],
   "source": [
    "df.head()"
   ]
  },
  {
   "cell_type": "code",
   "execution_count": 0,
   "metadata": {},
   "outputs": [],
   "source": [
    "df.shape"
   ]
  },
  {
   "cell_type": "code",
   "execution_count": 0,
   "metadata": {},
   "outputs": [],
   "source": [
    "plt.scatter(df.GORE, df.BUSH)\n",
    "plt.plot([0,400000], [0,400000])"
   ]
  },
  {
   "cell_type": "code",
   "execution_count": 0,
   "metadata": {
    "scrolled": true
   },
   "outputs": [],
   "source": [
    "pd.plotting.scatter_matrix(df)"
   ]
  },
  {
   "cell_type": "code",
   "execution_count": 0,
   "metadata": {},
   "outputs": [],
   "source": [
    "df.shape"
   ]
  },
  {
   "cell_type": "code",
   "execution_count": 0,
   "metadata": {},
   "outputs": [],
   "source": [
    "df[\"lnBUSH\"] = np.log(df.BUSH)"
   ]
  },
  {
   "cell_type": "code",
   "execution_count": 0,
   "metadata": {},
   "outputs": [],
   "source": [
    "# ge.dataset.util.categorical_partition_data\n",
    "my_part = ge.dataset.util.continuous_partition_data(df.lnBUSH)\n",
    "# my_part = ge.dataset.util.categorical_partition_data(df.BUSH)\n",
    "# my_part = ge.dataset.util.kde_partition_data(df.BUSH)\n",
    "\n",
    "#ge.generate_continuous_partition_from_series(df.BUSH)\n",
    "#df.BUSH.generate_continuous_partition_from_series()"
   ]
  },
  {
   "cell_type": "code",
   "execution_count": 0,
   "metadata": {},
   "outputs": [],
   "source": [
    "df.expect_column_kl_divergence_less_than('lnBUSH', my_part, 1)"
   ]
  },
  {
   "cell_type": "code",
   "execution_count": 0,
   "metadata": {},
   "outputs": [],
   "source": [
    "# plt.plot(my_part[\"partition\"], my_part[\"weights\"])\n",
    "print json.dumps(my_part, indent=2)"
   ]
  },
  {
   "cell_type": "code",
   "execution_count": 0,
   "metadata": {},
   "outputs": [],
   "source": [
    "plt.bar(my_part[\"partition\"][:-1], my_part[\"weights\"])"
   ]
  },
  {
   "cell_type": "code",
   "execution_count": 0,
   "metadata": {},
   "outputs": [],
   "source": [
    "np.log(df.BUSH).hist()"
   ]
  },
  {
   "cell_type": "code",
   "execution_count": 0,
   "metadata": {},
   "outputs": [],
   "source": []
  },
  {
   "cell_type": "code",
   "execution_count": 0,
   "metadata": {},
   "outputs": [],
   "source": [
    "df = ge.read_csv('/Users/abe/Documents/superconductive/tools/maglev/autoinspection/data/vincent_is_awesome/boot_channing.csv')"
   ]
  },
  {
   "cell_type": "code",
   "execution_count": 0,
   "metadata": {},
   "outputs": [],
   "source": [
    "df.head()"
   ]
  },
  {
   "cell_type": "code",
   "execution_count": 0,
   "metadata": {},
   "outputs": [],
   "source": [
    "?ge.dataset.util.continuous_partition_data(df.age)"
   ]
  },
  {
   "cell_type": "code",
   "execution_count": 0,
   "metadata": {},
   "outputs": [],
   "source": [
    "ge.dataset.util.categorical_partition_data(df.gender)"
   ]
  },
  {
   "cell_type": "code",
   "execution_count": 0,
   "metadata": {},
   "outputs": [],
   "source": [
    "import random"
   ]
  },
  {
   "cell_type": "code",
   "execution_count": 0,
   "metadata": {},
   "outputs": [],
   "source": [
    "?df.expect_column_kl_divergence_less_than"
   ]
  },
  {
   "cell_type": "code",
   "execution_count": 0,
   "metadata": {},
   "outputs": [],
   "source": [
    "df.age.hist()"
   ]
  },
  {
   "cell_type": "code",
   "execution_count": 0,
   "metadata": {},
   "outputs": [],
   "source": []
  },
  {
   "cell_type": "code",
   "execution_count": 0,
   "metadata": {
    "scrolled": false
   },
   "outputs": [],
   "source": [
    "col = 'age'\n",
    "values = []\n",
    "for i in range(100):\n",
    "#     print \"#\"*80\n",
    "    df[\"random\"] = df.gender.map(lambda x: random.random())\n",
    "    df_training = df[df.random > .5]\n",
    "    df_testing = ge.dataset.PandasDataSet(df[df.random <= .5])\n",
    "    \n",
    "#     partition = ge.dataset.util.continuous_partition_data(df_training[col], bins='ntile')\n",
    "    partition = ge.dataset.util.continuous_partition_data(df_training[col], bins='ntile')\n",
    "    new_partition = ge.dataset.util.continuous_partition_data(df_testing[col], bins='ntile')\n",
    "#     print partition\n",
    "\n",
    "#     plt.scatter(partition['partition'], np.hstack([partition['weights'], partition['weights'][-1:]]))\n",
    "#     plt.plot(partition['partition'], np.hstack([partition['weights'], partition['weights'][-1:]]))\n",
    "#     plt.plot(new_partition['partition'], np.hstack([new_partition['weights'], new_partition['weights'][-1:]]))\n",
    "#     plt.show()\n",
    "\n",
    "    result = df_testing.expect_column_kl_divergence_less_than(\n",
    "        col,\n",
    "        partition,\n",
    "        20,\n",
    "#         internal_weight_holdout=.5,\n",
    "        tail_weight_holdout=1.0/df_testing.shape[0]\n",
    "    )\n",
    "    value = result['true_value']\n",
    "    values.append(value)\n",
    "#     print value\n",
    "\n",
    "plt.hist(values, bins=20)"
   ]
  },
  {
   "cell_type": "code",
   "execution_count": 0,
   "metadata": {},
   "outputs": [],
   "source": [
    "df.head()"
   ]
  },
  {
   "cell_type": "code",
   "execution_count": 0,
   "metadata": {},
   "outputs": [],
   "source": [
    "col = 'age'\n",
    "values = []\n",
    "for col in ['age', 'obs', 'death', 'ageentry', 'time', 'gender', 'random']:\n",
    "    df[\"random\"] = df.gender.map(lambda x: random.random())\n",
    "    df_training = df[df.random > .5]\n",
    "    df_testing = ge.dataset.PandasDataSet(df[df.random <= .5])\n",
    "\n",
    "    partition = ge.dataset.util.continuous_partition_data(df_training['age'], bins='ntile')\n",
    "    new_partition = ge.dataset.util.continuous_partition_data(df_training[col], bins='ntile')\n",
    "\n",
    "    result = df_testing.expect_column_kl_divergence_less_than(\n",
    "        col,\n",
    "        partition,\n",
    "        20,\n",
    "#         internal_weight_holdout=.5,\n",
    "        tail_weight_holdout=1.0/df_testing.shape[0]\n",
    "    )\n",
    "    value = result['true_value']\n",
    "    values.append(value)\n",
    "    print col, value\n",
    "\n",
    "plt.hist(values, bins=20)"
   ]
  },
  {
   "cell_type": "code",
   "execution_count": 0,
   "metadata": {},
   "outputs": [],
   "source": []
  },
  {
   "cell_type": "code",
   "execution_count": 0,
   "metadata": {},
   "outputs": [],
   "source": [
    "rows = []\n",
    "for k,g in enumerate(G):\n",
    "    print k,g\n",
    "    try:\n",
    "        df = ge.read_csv(g)\n",
    "    except:\n",
    "        continue\n",
    "    \n",
    "    if df.shape[0]<40 or df.shape[1]>40:\n",
    "        continue\n",
    "\n",
    "    for i, i_col in list(enumerate(df.columns))[1:]:\n",
    "        if df[i_col].value_counts().shape < 30:\n",
    "            continue\n",
    "\n",
    "        for j, j_col in list(enumerate(df.columns))[i:]:\n",
    "    #         print i_col, j_col\n",
    "            if df[j_col].value_counts().shape < 30:\n",
    "                continue\n",
    "                \n",
    "            try:\n",
    "                df[\"random\"] = df[i_col].map(lambda x: random.random())\n",
    "                df_training = df[df.random > .5]\n",
    "                df_testing = ge.dataset.PandasDataSet(df[df.random <= .5])\n",
    "\n",
    "                partition = ge.dataset.util.categorical_partition_data(df_training[i_col])\n",
    "                new_partition = ge.dataset.util.categorical_partition_data(df_training[j_col])\n",
    "\n",
    "                same_result = df_testing.expect_column_chisquare_test_p_value_greater_than(\n",
    "                    i_col,\n",
    "                    partition,\n",
    "                    tail_weight_holdout=1.0/df_testing.shape[0]\n",
    "                )\n",
    "                diff_result = df_testing.expect_column_chisquare_test_p_value_greater_than(\n",
    "                    j_col,\n",
    "                    partition,\n",
    "                    tail_weight_holdout=1.0/df_testing.shape[0]\n",
    "                )\n",
    "                if i == j:\n",
    "                    diff_value = None\n",
    "                else:\n",
    "                    diff_value = diff_result['true_value']\n",
    "\n",
    "#                 print same_result\n",
    "\n",
    "                row = {\n",
    "                    'column_A' : i_col,\n",
    "                    'column_B' : j_col,\n",
    "                    'same_value' : same_result['true_value'],\n",
    "                    'diff_value' : diff_value,\n",
    "                    'source_file' : g,\n",
    "                }\n",
    "        #         same_value = result['true_value']\n",
    "        #         values.append(value)\n",
    "        #         print col, value\n",
    "                rows.append(row)\n",
    "\n",
    "            except Exception, err:\n",
    "#                 pass\n",
    "                print i_col, j_col\n",
    "                traceback.print_exc()\n",
    "\n",
    "\n",
    "chi_result_df = pd.DataFrame(rows)\n",
    "# plt.hist(values, bins=20)"
   ]
  },
  {
   "cell_type": "code",
   "execution_count": 0,
   "metadata": {},
   "outputs": [],
   "source": [
    "chi_result_df = pd.DataFrame(rows)"
   ]
  },
  {
   "cell_type": "code",
   "execution_count": 0,
   "metadata": {},
   "outputs": [],
   "source": [
    "chi_result_df.shape"
   ]
  },
  {
   "cell_type": "code",
   "execution_count": 0,
   "metadata": {},
   "outputs": [],
   "source": [
    "chi_result_df.same_value[chi_result_df.same_value<np.inf].hist(bins=20)"
   ]
  },
  {
   "cell_type": "code",
   "execution_count": 0,
   "metadata": {},
   "outputs": [],
   "source": [
    "chi_result_df.same_value.hist(bins=20)"
   ]
  },
  {
   "cell_type": "code",
   "execution_count": 0,
   "metadata": {},
   "outputs": [],
   "source": [
    "(chi_result_df.same_value<.05).mean()"
   ]
  },
  {
   "cell_type": "code",
   "execution_count": 0,
   "metadata": {},
   "outputs": [],
   "source": [
    "partition"
   ]
  },
  {
   "cell_type": "code",
   "execution_count": 0,
   "metadata": {},
   "outputs": [],
   "source": [
    "?ge.dataset.util.continuous_partition_data(df_training[i_col], bin=\"ntile\")"
   ]
  },
  {
   "cell_type": "code",
   "execution_count": 0,
   "metadata": {},
   "outputs": [],
   "source": [
    "result_df.same_value[result_df.same_value<np.inf].hist()"
   ]
  },
  {
   "cell_type": "code",
   "execution_count": 0,
   "metadata": {},
   "outputs": [],
   "source": [
    "df[\"random\"] = df[i_col].map(lambda x: random.random())\n",
    "df_training = df[df.random > .5]\n",
    "df_testing = ge.dataset.PandasDataSet(df[df.random <= .5])\n",
    "\n",
    "partition = ge.dataset.util.categorical_partition_data(df_training[i_col])\n",
    "new_partition = ge.dataset.util.categorical_partition_data(df_training[j_col])\n",
    "\n",
    "same_result = df_testing.expect_column_chisquare_test_p_value_greater_than(\n",
    "    i_col,\n",
    "    partition,\n",
    ")\n",
    "diff_result = df_testing.expect_column_chisquare_test_p_value_greater_than(\n",
    "    j_col,\n",
    "    partition,\n",
    ")\n",
    "if i == j:\n",
    "    diff_value = None\n",
    "else:\n",
    "    diff_value = diff_result['true_value']\n",
    "\n",
    "#                 print same_result\n",
    "\n",
    "row = {\n",
    "    'column_A' : i_col,\n",
    "    'column_B' : j_col,\n",
    "    'same_value' : same_result['true_value'],\n",
    "    'diff_value' : diff_value,\n",
    "    'source_file' : g,\n",
    "}\n",
    "#         same_value = result['true_value']\n",
    "#         values.append(value)\n",
    "#         print col, value\n",
    "rows.append(row)"
   ]
  },
  {
   "cell_type": "code",
   "execution_count": 0,
   "metadata": {},
   "outputs": [],
   "source": []
  }
 ],
 "metadata": {
  "kernelspec": {
   "display_name": "Python 2",
   "language": "python",
   "name": "python2"
  },
  "language_info": {
   "codemirror_mode": {
    "name": "ipython",
    "version": 2
   },
   "file_extension": ".py",
   "mimetype": "text/x-python",
   "name": "python",
   "nbconvert_exporter": "python",
   "pygments_lexer": "ipython2",
   "version": "2.7.13"
  }
 },
 "nbformat": 4,
 "nbformat_minor": 2
}